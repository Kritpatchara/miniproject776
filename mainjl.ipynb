{
 "cells": [
  {
   "cell_type": "code",
   "execution_count": 1,
   "metadata": {},
   "outputs": [
    {
     "data": {
      "text/plain": [
       "5"
      ]
     },
     "metadata": {},
     "output_type": "display_data"
    }
   ],
   "source": [
    "#Set up constants and structs\n",
    "\n",
    "#Person structs\n",
    "mutable struct Person\n",
    "    destination\n",
    "    forElevatorWaitTime\n",
    "    inElevatorWaitTime\n",
    "    index # This is going to be used for the floor and elevator queue\n",
    "    #Constructor\n",
    "    function Person(floor, index)\n",
    "        new(floor, 0, 0, index)\n",
    "    end\n",
    "end\n",
    "\n",
    "mutable struct ActionTimer\n",
    "    timeToDo\n",
    "    timer\n",
    "    action\n",
    "    parameters\n",
    "    destroy\n",
    "    index\n",
    "    #Constructor\n",
    "    function ActionTimer(timeToDo, anyfunction::Function, parameters, destroy, index)\n",
    "        new(timeToDo, 0, anyfunction, parameters, destroy, index)\n",
    "    end\n",
    "end\n",
    "\n",
    "mutable struct Elevator\n",
    "    floor\n",
    "    direction\n",
    "    peopleList\n",
    "    function Elevator()\n",
    "        new(1, \"Up\", [])\n",
    "    end\n",
    "end\n",
    "\n",
    "# MaxPersonAddedPerFunctionCalled\n",
    "minQueueAdd = 0\n",
    "maxQueueAdd = 5"
   ]
  },
  {
   "cell_type": "code",
   "execution_count": 2,
   "metadata": {},
   "outputs": [
    {
     "data": {
      "text/plain": [
       "removeIndexedObjectFromQueue (generic function with 1 method)"
      ]
     },
     "metadata": {},
     "output_type": "display_data"
    }
   ],
   "source": [
    "#Function to deal with indexed queue\n",
    "\n",
    "function removeIndexedObjectFromQueue(index, queue)\n",
    "    deleteat(queue, index)\n",
    "    for object in queue[index + 1:end]\n",
    "        object.index -= 1\n",
    "    end\n",
    "end"
   ]
  },
  {
   "cell_type": "code",
   "execution_count": 3,
   "metadata": {},
   "outputs": [
    {
     "data": {
      "text/plain": [
       "moveElevator (generic function with 1 method)"
      ]
     },
     "metadata": {},
     "output_type": "display_data"
    }
   ],
   "source": [
    "# Action Functions\n",
    "function generatePeopleAtFloor(parameters)\n",
    "    floors = parameters[1]\n",
    "    floorQueue = parameters[2]\n",
    "    min = parameters[3]\n",
    "    max = parameters[4]\n",
    "    #Generate new members\n",
    "    numberOfNewPeople = rand(min:max) #Pick how many people\n",
    "    for floor in 1:numberOfNewPeople\n",
    "        push!(floorQueue[floor], Person(floor, length(floorQueue[floor]) + 1))\n",
    "    end\n",
    "end\n",
    "  \n",
    "function moveElevator(parameters)\n",
    "    elevatorIndex = parameters[1]\n",
    "    elevatorList = parameters[2]\n",
    "    floors = parameters[3]\n",
    "    floorQueue = parameters[4]\n",
    "    waitingTimeHistory = parameters[5]\n",
    "    \n",
    "    elevator = elevatorList[elevatorIndex]\n",
    "    if elevator.floor == 1\n",
    "        elevator.direction = 1\n",
    "    end\n",
    "\n",
    "    if elevator.floor == floors\n",
    "        elevator.direction = -1\n",
    "    elseif true in [length(i) > 0 for i in floorQueue[floor + 1:end]]\n",
    "        elevator.direction = -1\n",
    "    \n",
    "        elevator.floor += elevator.direction\n",
    "\n",
    "    # Check for leaving\n",
    "    for person in elevator.peopleList\n",
    "        if elevator.floor == people.destination\n",
    "            push!(waitingTimeHistory, person.forElevatorWaitTime)\n",
    "            removeIndexedObjectFromQueue(index, elvator.peopleList)\n",
    "        else\n",
    "            person.InElevatorWaitTime += 1\n",
    "        end\n",
    "    end\n",
    "\n",
    "    # Check for boarding\n",
    "    for person in floorQueue[elevator.floor]\n",
    "        push!(elevator.peopleList, person)\n",
    "        removeIndexedObjectFromQueue(person.index, floorQueue[elevator.floor])\n",
    "        push!(waitingTimeHistory, person.inElevatorWaitTime)\n",
    "    end\n",
    "end"
   ]
  },
  {
   "cell_type": "code",
   "execution_count": 4,
   "metadata": {},
   "outputs": [
    {
     "data": {
      "text/plain": [
       "Any[]"
      ]
     },
     "metadata": {},
     "output_type": "display_data"
    }
   ],
   "source": [
    "#Time unit in ints\n",
    "timeLimit = 100\n",
    "floors = 5\n",
    "elevators = 1\n",
    "floorQueue = Vector()\n",
    "actionQueue = []\n",
    "elevatorList = []\n",
    "waitingTimeHistory = []"
   ]
  },
  {
   "cell_type": "code",
   "execution_count": 5,
   "metadata": {},
   "outputs": [],
   "source": [
    "# Set up all floors and generators\n",
    "for floor in 1:floors\n",
    "    push!(floorQueue, [])\n",
    "    push!(actionQueue, ActionTimer(1, generatePeopleAtFloor, [floor, floorQueue, minQueueAdd, maxQueueAdd], false, length(actionQueue) + 1))\n",
    "end"
   ]
  },
  {
   "cell_type": "code",
   "execution_count": 6,
   "metadata": {},
   "outputs": [
    {
     "data": {
      "text/plain": [
       "goThroughActionQueue (generic function with 1 method)"
      ]
     },
     "metadata": {},
     "output_type": "display_data"
    }
   ],
   "source": [
    "#Function to deal with action queue\n",
    "function incrementActionTimer(actionTimer)\n",
    "    actionTimer.timer += 1\n",
    "    if actionTimer.timer == actionTimer.timeToDo\n",
    "      actionTimer.timer = 0\n",
    "      actionTimer.action(actionTimer.parameters)\n",
    "      actionTimer.destroy\n",
    "    end\n",
    "    false\n",
    "  end\n",
    "  \n",
    "  function incrementPeopleTimers(floorQueue)\n",
    "    for floor in floorQueue\n",
    "      for people in floor\n",
    "        people.forElevatorWaitTime += 1\n",
    "      end\n",
    "    end\n",
    "  end\n",
    "  \n",
    "  function goThroughActionQueue(actionQueue)\n",
    "    for actionTimer in actionQueue\n",
    "      if incrementActionTimer(actionTimer)\n",
    "        removeIndexedObjectFromQueue(actionTimer.index, actionQueue)\n",
    "      end\n",
    "    end\n",
    "  end"
   ]
  },
  {
   "cell_type": "code",
   "execution_count": 7,
   "metadata": {},
   "outputs": [],
   "source": [
    "# Set up elevators\n",
    "for elevator in 1:elevators\n",
    "    push!(elevatorList, Elevator())\n",
    "    push!(actionQueue, ActionTimer(1, moveElevator,[elevator, elevatorList, floors, floorQueue, waitingTimeHistory],  false, length(actionQueue) + 1))\n",
    "end"
   ]
  },
  {
   "cell_type": "code",
   "execution_count": 8,
   "metadata": {},
   "outputs": [
    {
     "ename": "MethodError",
     "evalue": "MethodError: no method matching +(::typeof(floor), ::Int64)\n\nClosest candidates are:\n  +(::Any, ::Any, !Matched::Any, !Matched::Any...)\n   @ Base operators.jl:587\n  +(!Matched::Missing, ::Number)\n   @ Base missing.jl:123\n  +(!Matched::Base.CoreLogging.LogLevel, ::Integer)\n   @ Base logging.jl:131\n  ...\n",
     "output_type": "error",
     "traceback": [
      "MethodError: no method matching +(::typeof(floor), ::Int64)\n",
      "\n",
      "Closest candidates are:\n",
      "  +(::Any, ::Any, !Matched::Any, !Matched::Any...)\n",
      "   @ Base operators.jl:587\n",
      "  +(!Matched::Missing, ::Number)\n",
      "   @ Base missing.jl:123\n",
      "  +(!Matched::Base.CoreLogging.LogLevel, ::Integer)\n",
      "   @ Base logging.jl:131\n",
      "  ...\n",
      "\n",
      "\n",
      "Stacktrace:\n",
      " [1] moveElevator(parameters::Vector{Any})\n",
      "   @ Main c:\\Users\\LENOVO\\Documents\\GitHub\\Mega_project_776\\mainjl.ipynb:27\n",
      " [2] incrementActionTimer(actionTimer::ActionTimer)\n",
      "   @ Main c:\\Users\\LENOVO\\Documents\\GitHub\\Mega_project_776\\mainjl.ipynb:6\n",
      " [3] goThroughActionQueue(actionQueue::Vector{Any})\n",
      "   @ Main c:\\Users\\LENOVO\\Documents\\GitHub\\Mega_project_776\\mainjl.ipynb:22\n",
      " [4] top-level scope\n",
      "   @ c:\\Users\\LENOVO\\Documents\\GitHub\\Mega_project_776\\mainjl.ipynb:5"
     ]
    }
   ],
   "source": [
    "mainTimer = 0\n",
    "# Main Loop\n",
    "while mainTimer < timeLimit\n",
    "  incrementPeopleTimers(floorQueue)\n",
    "  goThroughActionQueue(actionQueue)\n",
    "  mainTimer += 1\n",
    "end"
   ]
  }
 ],
 "metadata": {
  "kernelspec": {
   "display_name": "Julia 1.10.1",
   "language": "julia",
   "name": "julia-1.10"
  },
  "language_info": {
   "file_extension": ".jl",
   "mimetype": "application/julia",
   "name": "julia",
   "version": "1.10.1"
  }
 },
 "nbformat": 4,
 "nbformat_minor": 2
}
