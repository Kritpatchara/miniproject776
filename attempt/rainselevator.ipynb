{
 "cells": [
  {
   "cell_type": "code",
   "execution_count": 1,
   "metadata": {},
   "outputs": [
    {
     "data": {
      "text/plain": [
       "5"
      ]
     },
     "metadata": {},
     "output_type": "display_data"
    }
   ],
   "source": [
    "#Set up constants and structs\n",
    "\n",
    "#Person structs\n",
    "mutable struct Person\n",
    "    floor\n",
    "    forElevatorWaitTime\n",
    "    InElevatorWaitTime\n",
    "    index #This is going to be used for the floor and elevator queue\n",
    "    #Constructor\n",
    "    function Person(floor, index)\n",
    "        new(floor, 0, 0, index)\n",
    "    end\n",
    "end\n",
    "\n",
    "mutable struct ActionTimer\n",
    "    timeToDo\n",
    "    timer\n",
    "    action\n",
    "    destroy\n",
    "    index\n",
    "    #Constructor\n",
    "    function ActionTimer(timeToDo, anyfunction::Function, destroy, index)\n",
    "        new(timeToDo, 0, anyfunction, destroy, index)\n",
    "    end\n",
    "end\n",
    "\n",
    "mutable struct Elevator\n",
    "    floor\n",
    "    direction\n",
    "    peopleList\n",
    "    function Elevator()\n",
    "        new(1, \"Up\", [])\n",
    "    end\n",
    "end\n",
    "\n",
    "#MaxPersonAddedPerFunctionCalled\n",
    "minQueueAdd = 0\n",
    "maxQueueAdd = 5"
   ]
  },
  {
   "cell_type": "code",
   "execution_count": 2,
   "metadata": {},
   "outputs": [
    {
     "data": {
      "text/plain": [
       "2-element Vector{Int64}:\n",
       " 1\n",
       " 2"
      ]
     },
     "metadata": {},
     "output_type": "display_data"
    }
   ],
   "source": [
    "lmao = [1,2,3]\n",
    "function dothing(list)\n",
    "    deleteat!(list, 3)\n",
    "end\n",
    "dothing(lmao)"
   ]
  },
  {
   "cell_type": "code",
   "execution_count": 3,
   "metadata": {},
   "outputs": [
    {
     "data": {
      "text/plain": [
       "removeIndexedObjectFromQueue (generic function with 1 method)"
      ]
     },
     "metadata": {},
     "output_type": "display_data"
    }
   ],
   "source": [
    "#Function to deal with indexed queue\n",
    "\n",
    "function removeIndexedObjectFromQueue(index, queue)\n",
    "    deleteat(queue, index)\n",
    "    for object in queue[index + 1:end]\n",
    "        object.index -= 1\n",
    "    end\n",
    "end"
   ]
  },
  {
   "cell_type": "code",
   "execution_count": 10,
   "metadata": {},
   "outputs": [
    {
     "data": {
      "text/plain": [
       "moveElevator (generic function with 1 method)"
      ]
     },
     "metadata": {},
     "output_type": "display_data"
    }
   ],
   "source": [
    "# Action Functions\n",
    "function generatePeopleAtFloor(floor, floorQueue, min, max)\n",
    "    #Generate new members\n",
    "    numberOfNewPeople = rand(min, max) #Pick how many people\n",
    "    for i in 1:numberOfNewPeople\n",
    "      push!(floorQueue[floor], Person(floor, length(floorQueue[floor]) + 1))\n",
    "    end\n",
    "end\n",
    "  \n",
    "function moveElevator(elevator, floors, floorQueue)\n",
    "    if elevator.floor == 1\n",
    "        elevator.direction = 1\n",
    "    end\n",
    "\n",
    "    if elevator.floor == floors\n",
    "        elevator.direction = -1\n",
    "    elseif true in [length(i) > 1 for i in floorQueue[floor + 1:end]]\n",
    "        elevator.direction = -1\n",
    "    else\n",
    "        elevator.floor += elevator.direction\n",
    "    end\n",
    "\n",
    "    # Check for leaving\n",
    "    for person in elevator.peopleList\n",
    "        if elevator.floor == people.floor\n",
    "            removeIndexedObjectFromQueue(index, elvator.peopleList)\n",
    "        else\n",
    "            person.InElevatorWaitTime += 1\n",
    "        end\n",
    "    end\n",
    "\n",
    "    # Check for boarding\n",
    "    for person in floorQueue[elevator.floor]\n",
    "        push!(elevator.peopleList, person)\n",
    "        removeIndexedObjectFromQueue(person.index, floorQueue[elevator.floor])\n",
    "    end\n",
    "end"
   ]
  }
 ],
 "metadata": {
  "kernelspec": {
   "display_name": "Julia 1.10.0",
   "language": "julia",
   "name": "julia-1.10"
  },
  "language_info": {
   "file_extension": ".jl",
   "mimetype": "application/julia",
   "name": "julia",
   "version": "1.10.0"
  }
 },
 "nbformat": 4,
 "nbformat_minor": 2
}
